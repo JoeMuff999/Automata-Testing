{
 "cells": [
  {
   "cell_type": "code",
   "execution_count": 1,
   "metadata": {},
   "outputs": [
    {
     "data": {
      "text/plain": [
       "'\\nAuthor information:\\nJoey R. Muffoletto\\nUniversity of Texas at Austin\\nAutonomous Systems Group\\njrmuff@utexas.edu\\n'"
      ]
     },
     "execution_count": 1,
     "metadata": {},
     "output_type": "execute_result"
    }
   ],
   "source": [
    " '''\n",
    "Author information:\n",
    "Joey R. Muffoletto\n",
    "University of Texas at Austin\n",
    "Autonomous Systems Group\n",
    "jrmuff@utexas.edu\n",
    "'''"
   ]
  },
  {
   "cell_type": "code",
   "execution_count": 9,
   "metadata": {},
   "outputs": [
    {
     "ename": "TypeError",
     "evalue": "Required argument 'path' (pos 1) not found",
     "output_type": "error",
     "traceback": [
      "\u001b[0;31m---------------------------------------------------------------------------\u001b[0m",
      "\u001b[0;31mTypeError\u001b[0m                                 Traceback (most recent call last)",
      "\u001b[0;32m<ipython-input-9-e12de995b8b7>\u001b[0m in \u001b[0;36m<module>\u001b[0;34m\u001b[0m\n\u001b[1;32m      1\u001b[0m \u001b[0;32mimport\u001b[0m \u001b[0mos\u001b[0m\u001b[0;34m\u001b[0m\u001b[0;34m\u001b[0m\u001b[0m\n\u001b[0;32m----> 2\u001b[0;31m \u001b[0mos\u001b[0m\u001b[0;34m.\u001b[0m\u001b[0mchdir\u001b[0m\u001b[0;34m(\u001b[0m\u001b[0;34m)\u001b[0m\u001b[0;34m\u001b[0m\u001b[0;34m\u001b[0m\u001b[0m\n\u001b[0m\u001b[1;32m      3\u001b[0m \u001b[0;32mimport\u001b[0m \u001b[0mrealtime_manager\u001b[0m \u001b[0;32mas\u001b[0m \u001b[0mrm\u001b[0m\u001b[0;34m\u001b[0m\u001b[0;34m\u001b[0m\u001b[0m\n\u001b[1;32m      4\u001b[0m \u001b[0;32mimport\u001b[0m \u001b[0mgraph_manager\u001b[0m \u001b[0;32mas\u001b[0m \u001b[0mgm\u001b[0m\u001b[0;34m\u001b[0m\u001b[0;34m\u001b[0m\u001b[0m\n\u001b[1;32m      5\u001b[0m \u001b[0;32mimport\u001b[0m \u001b[0mreworked_graph\u001b[0m \u001b[0;32mas\u001b[0m \u001b[0mrg\u001b[0m\u001b[0;34m\u001b[0m\u001b[0;34m\u001b[0m\u001b[0m\n",
      "\u001b[0;31mTypeError\u001b[0m: Required argument 'path' (pos 1) not found"
     ]
    }
   ],
   "source": [
    "import os\n",
    "\n",
    "import realtime_manager as rm \n",
    "import graph_manager as gm\n",
    "import reworked_graph as rg\n",
    "import copy\n",
    "\n",
    "# os.environ[\"PATH\"] += os.pathsep + 'C:/Program Files/Graphviz 2.44.1/bin'"
   ]
  },
  {
   "cell_type": "code",
   "execution_count": null,
   "metadata": {},
   "outputs": [],
   "source": [
    "'''\n",
    "manager configurations\n",
    "\n",
    "traffic test globals\n",
    "'''\n",
    "NUM_TOWERS = 5\n",
    "TAU_MAX = 10\n",
    "TAU = 4\n",
    "\n",
    "LOW_TRAFFIC_MULTIPLIER = 1\n",
    "HIGH_TRAFFIC_MULTIPLIER = 3\n",
    "\n",
    "MIN_LOW_TRAFFIC = 0\n",
    "MAX_LOW_TRAFFIC = LOW_TRAFFIC_MULTIPLIER * NUM_TOWERS\n",
    "\n",
    "MIN_HIGH_TRAFFIC = MAX_LOW_TRAFFIC\n",
    "MAX_HIGH_TRAFFIC = HIGH_TRAFFIC_MULTIPLIER * NUM_TOWERS\n",
    "\n",
    "MIN_TTL = 0\n",
    "MAX_TTL = 3\n",
    "\n",
    "DEFAULT_EMPTY_STATE = rg.State((),(),{\"0\" : 6})\n",
    "rm.configure_realtime(tau=TAU, override_default_empty_state=DEFAULT_EMPTY_STATE)\n",
    "\n",
    "HIGH_TRAFFIC_FREQUENCY = .25 # use rand.random() = [0.0, 1.0], or, just add this value until = 1 then reset\n",
    "\n",
    "NUM_TIME_STEPS = 40\n",
    "\n"
   ]
  },
  {
   "cell_type": "code",
   "execution_count": null,
   "metadata": {},
   "outputs": [],
   "source": [
    "'''\n",
    "Input generation functions\n",
    "\n",
    "low traffic is some random number between min_low_traffic and max_low_traffic, high traffic is the same with high\n",
    "\n",
    "choose a random tower index everytime we add one\n",
    "\n",
    "high traffic occurs everytime HIGH_TRAFFIC_FREQUENCY * TIME_STEPS is a whole number\n",
    "\n",
    "TTL is a random number between MIN_TTL and MAX_TTL\n",
    "'''\n",
    "import random\n",
    "random.seed(10)\n",
    "def generate_traffic(min_traffic, max_traffic):\n",
    "    additional_requests_dict = dict()\n",
    "#     counter = 0\n",
    "    requests_to_add = random.randint(min_traffic, max_traffic)\n",
    "    for i in range(requests_to_add):\n",
    "#         if counter == NUM_TOWERS:\n",
    "#             counter = 0\n",
    "#         tower_to_add_to = counter\n",
    "#         counter+=1\n",
    "        tower_to_add_to = random.randint(0, NUM_TOWERS-1) # NUM_TOWERS is OOB\n",
    "        request_to_add = ('no_pref', random.randint(MIN_TTL, MAX_TTL))\n",
    "#         request_to_add = ('no_pref', 5)\n",
    "        if tower_to_add_to in additional_requests_dict:\n",
    "            additional_requests_dict[tower_to_add_to].append(request_to_add)\n",
    "        else:\n",
    "            additional_requests_dict[tower_to_add_to] = [request_to_add]\n",
    "    return additional_requests_dict\n",
    "            \n",
    "def generate_low_traffic():\n",
    "    return generate_traffic(MIN_LOW_TRAFFIC, MAX_LOW_TRAFFIC)\n",
    "    \n",
    "def generate_high_traffic():\n",
    "    return generate_traffic(MIN_HIGH_TRAFFIC, MAX_HIGH_TRAFFIC)"
   ]
  },
  {
   "cell_type": "code",
   "execution_count": null,
   "metadata": {},
   "outputs": [],
   "source": [
    "'''\n",
    "Input Generation\n",
    "'''\n",
    "input = []\n",
    "high_traffic_counter = 0\n",
    "for time in range(NUM_TIME_STEPS):\n",
    "    if high_traffic_counter == 1:\n",
    "        high_traffic_counter = 0\n",
    "        input.append([generate_high_traffic()])\n",
    "    else:\n",
    "        high_traffic_counter += HIGH_TRAFFIC_FREQUENCY\n",
    "        input.append([generate_low_traffic()])\n",
    "        \n",
    "initial_system = [copy.deepcopy(gm.return_tower(0, 1, [],[6])) for i in range(NUM_TOWERS)]"
   ]
  },
  {
   "cell_type": "code",
   "execution_count": null,
   "metadata": {},
   "outputs": [],
   "source": [
    "'''\n",
    "Input statistics:\n",
    "'''\n",
    "requests_per_tower = [0 for i in range(NUM_TOWERS)]\n",
    "for time_step in range(len(input)):\n",
    "    for i in range(NUM_TOWERS):\n",
    "        if i in input[time_step][0]:\n",
    "            requests_per_tower[i]+=len(input[time_step][0][i])\n",
    "for i in range(NUM_TOWERS):\n",
    "    print(\"tower \" + str(i) + \"has \" + str(requests_per_tower[i]) + \" requests\")"
   ]
  },
  {
   "cell_type": "code",
   "execution_count": null,
   "metadata": {
    "scrolled": false
   },
   "outputs": [],
   "source": [
    "'''\n",
    "INPUT SAVING (DO NOT RE-RUN WILLY NILLY MY FRIEND)\n",
    "'''\n",
    "input_copy = copy.deepcopy(input)\n",
    "# for _dict in input_copy:\n",
    "#     print(_dict)\n",
    "\n",
    "initial_system_copy = copy.deepcopy(initial_system)"
   ]
  },
  {
   "cell_type": "code",
   "execution_count": null,
   "metadata": {
    "scrolled": true
   },
   "outputs": [],
   "source": [
    "'''\n",
    "data collection\n",
    "'''\n",
    "_completed_states_per_tau = [[] for i in range(TAU_MAX)]\n",
    "_timing_info_per_tau = [[] for i in range(TAU_MAX)]\n",
    "for _tau in range(TAU_MAX):\n",
    "    rm.configure_realtime(tau=_tau, override_default_empty_state=DEFAULT_EMPTY_STATE)\n",
    "    traces, timings = rm.main_loop(initial_system_copy, copy.deepcopy(input_copy))\n",
    "    _completed_states_per_tau[_tau] = copy.deepcopy(traces)\n",
    "    _timing_info_per_tau[_tau] = copy.deepcopy(timings)\n",
    "    gm.reset_globals()\n",
    "#     print(traces)\n",
    "    # _completed_states, _timing_info = rm.main_loop(initial_system_copy, input_copy)\n"
   ]
  },
  {
   "cell_type": "code",
   "execution_count": null,
   "metadata": {},
   "outputs": [],
   "source": [
    "'''\n",
    "data buffer (DO NOT RE-RUN WILLY-NILLY)\n",
    "'''\n",
    "completed_states = copy.deepcopy(_completed_states_per_tau)\n",
    "timing_info = copy.deepcopy(_timing_info_per_tau)\n",
    "\n",
    "\n"
   ]
  },
  {
   "cell_type": "code",
   "execution_count": null,
   "metadata": {},
   "outputs": [],
   "source": [
    "'''\n",
    "process data buffer\n",
    "'''\n",
    "percent_valid = [0 for i in range(len(completed_states[0]))]\n",
    "percent_valid_per_tau = [copy.copy(percent_valid) for i in range(TAU_MAX)]\n",
    "for tau,completed in enumerate(completed_states):\n",
    "    print(completed)\n",
    "    print(\"\\n\\n\\n\\n\\n\\n\")\n",
    "    for index, com in enumerate(completed):\n",
    "        for state in com:\n",
    "            if(\"VALID\" in state.labels):\n",
    "                percent_valid_per_tau[tau][index] += 1\n",
    "\n",
    "for tower_cost in percent_valid_per_tau:\n",
    "    print(tower_cost)\n",
    "    \n",
    "# actual_percentages = [(i/len(completed_states[0])) for i in percent_valid]\n",
    "# print(actual_percentages)\n",
    "\n",
    "# mvp_output_per_tower\n",
    "mvp_output_per_tower_per_tau = [rm.get_mvp_output(completed) for completed in completed_states]\n",
    "for tau in mvp_output_per_tower_per_tau:\n",
    "    for output in tau:\n",
    "        gm.print_formatted_cost(output[0],format_override=True)\n",
    "#     output[3].plot()\n",
    "#     gm.print_formatted_trace_path(output[1])\n",
    "for timings in timing_info:\n",
    "    print(timings)\n",
    "    "
   ]
  },
  {
   "cell_type": "code",
   "execution_count": null,
   "metadata": {
    "scrolled": true
   },
   "outputs": [],
   "source": [
    "'''\n",
    "data buffer for mvp output\n",
    "'''\n",
    "percent_valid = [0 for i in range(len(completed_states[0]))]\n",
    "percent_valid_per_tau = [copy.copy(percent_valid) for i in range(TAU_MAX)]\n",
    "\n",
    "number_requests_per_TAU = [0 for i in range(len(completed_states[0]))]\n",
    "\n",
    "for tau,completed in enumerate(completed_states):\n",
    "    for index, com in enumerate(completed):\n",
    "        for state in com:\n",
    "            if(\"VALID\" in state.labels):\n",
    "                percent_valid_per_tau[tau][index] += 1\n",
    "                \n",
    "    \n",
    "\n",
    "for tower_cost in percent_valid_per_tau:\n",
    "    print(tower_cost)\n",
    "mvp_output_per_tower_per_tau_copy = copy.deepcopy(mvp_output_per_tower_per_tau)\n",
    "# for tau in mvp_output_per_tower_per_tau_copy:\n",
    "#     for output in tau:\n",
    "#         gm.print_formatted_cost(output[0],format_override=True)\n",
    "# for timings in timing_info:\n",
    "#     print(timings)"
   ]
  },
  {
   "cell_type": "code",
   "execution_count": null,
   "metadata": {
    "scrolled": true
   },
   "outputs": [],
   "source": [
    "'''\n",
    "More data processing\n",
    "'''\n",
    "# sum up the negative costs for the tower (get total expiration value)\n",
    "cost_per_tau_over_time = [[] for i in range(TAU_MAX)]\n",
    "for index,tau in enumerate(completed_states):\n",
    "    sum_cost = 0\n",
    "    for time_step in range(len(completed_states[0][0])):\n",
    "        for tower in tau:\n",
    "            for expiration in tower[time_step].time_vector:\n",
    "                if expiration < 0:\n",
    "                    sum_cost -= expiration \n",
    "        cost_per_tau_over_time[index].append(sum_cost)\n",
    "cost_per_tau_over_time = cost_per_tau_over_time[:5]\n",
    "'''\n",
    "first plot:\n",
    "cummulative expiration cost vs. time step\n",
    "label with periods of high traffic and low traffic\n",
    "do a line per tau\n",
    "'''\n",
    "import matplotlib.pyplot as plt\n",
    "x = [i+1 for i in range(len(completed_states[0][0]))]\n",
    "for tau_num, tau in enumerate(cost_per_tau_over_time):\n",
    "    plt.plot(x, tau, label = \"TAU = \" + str(tau_num))\n",
    "plt.legend()\n",
    "plt.xlabel('Time Step')\n",
    "plt.ylabel('Cummulative Error')\n",
    "plt.show()"
   ]
  },
  {
   "cell_type": "code",
   "execution_count": null,
   "metadata": {},
   "outputs": [],
   "source": []
  }
 ],
 "metadata": {
  "kernelspec": {
   "display_name": "myenv",
   "language": "python",
   "name": "myenv"
  },
  "language_info": {
   "codemirror_mode": {
    "name": "ipython",
    "version": 3
   },
   "file_extension": ".py",
   "mimetype": "text/x-python",
   "name": "python",
   "nbconvert_exporter": "python",
   "pygments_lexer": "ipython3",
   "version": "3.6.9"
  }
 },
 "nbformat": 4,
 "nbformat_minor": 2
}
