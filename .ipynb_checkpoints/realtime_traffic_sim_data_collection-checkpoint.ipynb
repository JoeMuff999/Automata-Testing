{
 "cells": [
  {
   "cell_type": "code",
   "execution_count": 1,
   "metadata": {},
   "outputs": [],
   "source": [
    " '''\n",
    "Author information:\n",
    "Joey R. Muffoletto\n",
    "University of Texas at Austin\n",
    "Autonomous Systems Group\n",
    "jrmuff@utexas.edu\n",
    "'''"
   ]
  },
  {
   "cell_type": "code",
   "execution_count": 2,
   "metadata": {},
   "outputs": [],
   "source": [
    "import os\n",
    "\n",
    "import realtime_manager as rm \n",
    "import graph_manager as gm\n",
    "import reworked_graph as rg\n",
    "import copy\n",
    "\n",
    "# os.environ[\"PATH\"] += os.pathsep + 'C:/Program Files/Graphviz 2.44.1/bin'"
   ]
  },
  {
   "cell_type": "code",
   "execution_count": 3,
   "metadata": {},
   "outputs": [],
   "source": [
    "'''\n",
    "manager configurations\n",
    "\n",
    "traffic test globals\n",
    "'''\n",
    "NUM_TOWERS = 8\n",
    "TAU_MAX = 5\n",
    "TAU = 0\n",
    "\n",
    "LOW_TRAFFIC_MULTIPLIER = 1\n",
    "HIGH_TRAFFIC_MULTIPLIER = 3\n",
    "\n",
    "MIN_LOW_TRAFFIC = 0\n",
    "MAX_LOW_TRAFFIC = LOW_TRAFFIC_MULTIPLIER * NUM_TOWERS/int(2)\n",
    "\n",
    "MIN_HIGH_TRAFFIC = MAX_LOW_TRAFFIC*2\n",
    "MAX_HIGH_TRAFFIC = HIGH_TRAFFIC_MULTIPLIER * NUM_TOWERS\n",
    "\n",
    "MIN_TTL = 0\n",
    "MAX_TTL = 3\n",
    "\n",
    "\n",
    "DEFAULT_EMPTY_STATE = rg.State((),(),{\"0\" : 6})\n",
    "rm.configure_realtime(tau=TAU, override_default_empty_state=DEFAULT_EMPTY_STATE)\n",
    "\n",
    "# HIGH_TRAFFIC_FREQUENCY = .1 # use rand.random() = [0.0, 1.0], or, just add this value until = 1 then reset\n",
    "HIGH_TRAFFIC_TRIGGER = 8\n",
    "NUM_TIME_STEPS = 40\n",
    "\n"
   ]
  },
  {
   "cell_type": "code",
   "execution_count": 4,
   "metadata": {},
   "outputs": [],
   "source": [
    "'''\n",
    "Input generation functions\n",
    "\n",
    "low traffic is some random number between min_low_traffic and max_low_traffic, high traffic is the same with high\n",
    "\n",
    "choose a random tower index everytime we add one\n",
    "\n",
    "high traffic occurs everytime HIGH_TRAFFIC_FREQUENCY * TIME_STEPS is a whole number\n",
    "\n",
    "TTL is a random number between MIN_TTL and MAX_TTL\n",
    "'''\n",
    "import random\n",
    "random.seed(10)\n",
    "def generate_traffic(min_traffic, max_traffic):\n",
    "    additional_requests_dict = dict()\n",
    "#     counter = 0\n",
    "    requests_to_add = random.randint(min_traffic, max_traffic)\n",
    "    for i in range(requests_to_add):\n",
    "#         if counter == NUM_TOWERS:\n",
    "#             counter = 0\n",
    "#         tower_to_add_to = counter\n",
    "#         counter+=1\n",
    "        tower_to_add_to = random.randint(0, NUM_TOWERS-1) # NUM_TOWERS is OOB\n",
    "        request_to_add = ('no_pref', random.randint(MIN_TTL, MAX_TTL))\n",
    "#         request_to_add = ('no_pref', 5)\n",
    "        if tower_to_add_to in additional_requests_dict:\n",
    "            additional_requests_dict[tower_to_add_to].append(request_to_add)\n",
    "        else:\n",
    "            additional_requests_dict[tower_to_add_to] = [request_to_add]\n",
    "    return additional_requests_dict\n",
    "            \n",
    "def generate_low_traffic():\n",
    "    return generate_traffic(MIN_LOW_TRAFFIC, MAX_LOW_TRAFFIC)\n",
    "    \n",
    "def generate_high_traffic():\n",
    "    return generate_traffic(MIN_HIGH_TRAFFIC, MAX_HIGH_TRAFFIC)"
   ]
  },
  {
   "cell_type": "code",
   "execution_count": 5,
   "metadata": {},
   "outputs": [],
   "source": [
    "'''\n",
    "Input Generation\n",
    "'''\n",
    "def generate_inputs():\n",
    "    input = []\n",
    "    high_traffic_counter = 1\n",
    "    for time in range(NUM_TIME_STEPS):\n",
    "        if high_traffic_counter == HIGH_TRAFFIC_TRIGGER:\n",
    "            high_traffic_counter = 1\n",
    "            input.append([generate_high_traffic()])\n",
    "        else:\n",
    "            high_traffic_counter += 1\n",
    "            input.append([generate_low_traffic()])\n",
    "\n",
    "    initial_system = [copy.deepcopy(gm.return_tower(0, 1, [],[6])) for i in range(NUM_TOWERS)]\n",
    "    return initial_system, input"
   ]
  },
  {
   "cell_type": "code",
   "execution_count": 6,
   "metadata": {},
   "outputs": [],
   "source": [
    "'''\n",
    "Input statistics:\n",
    "'''\n",
    "def generate_input_statistics(input):\n",
    "    requests_per_tower = [0 for i in range(NUM_TOWERS)]\n",
    "    for time_step in range(len(input)):\n",
    "        for i in range(NUM_TOWERS):\n",
    "            if i in input[time_step][0]:\n",
    "                requests_per_tower[i]+=len(input[time_step][0][i])\n",
    "    for i in range(NUM_TOWERS):\n",
    "        print(\"tower \" + str(i) + \"has \" + str(requests_per_tower[i]) + \" requests\")\n",
    "    average_input_frequency = sum([i for i in requests_per_tower])/(float(NUM_TIME_STEPS) * float(NUM_TOWERS))\n",
    "    print(\"average_input_frequency = \" + str(average_input_frequency))\n",
    "    return average_input_frequency"
   ]
  },
  {
   "cell_type": "code",
   "execution_count": 7,
   "metadata": {
    "scrolled": false
   },
   "outputs": [],
   "source": [
    "# '''\n",
    "# INPUT SAVING\n",
    "# '''\n",
    "# input_copy = copy.deepcopy(input)\n",
    "# # for _dict in input_copy:\n",
    "# #     print(_dict)\n",
    "\n",
    "# initial_system_copy = copy.deepcopy(initial_system)"
   ]
  },
  {
   "cell_type": "code",
   "execution_count": 8,
   "metadata": {
    "scrolled": true
   },
   "outputs": [],
   "source": [
    "'''\n",
    "data collection functions\n",
    "'''\n",
    "def run_realtime_data_collection(initial_system_copy, input_copy):\n",
    "    _completed_states_per_tau = [[] for i in range(TAU_MAX)]\n",
    "    _timing_info_per_tau = [[] for i in range(TAU_MAX)]\n",
    "    for _tau in range(TAU_MAX):\n",
    "        rm.configure_realtime(tau=_tau, override_default_empty_state=DEFAULT_EMPTY_STATE)\n",
    "        traces, timings = rm.main_loop(initial_system_copy, copy.deepcopy(input_copy))\n",
    "        _completed_states_per_tau[_tau] = copy.deepcopy(traces)\n",
    "        _timing_info_per_tau[_tau] = copy.deepcopy(timings)\n",
    "        gm.reset_globals()\n",
    "    return _completed_states_per_tau, _timing_info_per_tau\n",
    "    #     print(traces)\n",
    "        # _completed_states, _timing_info = rm.main_loop(initial_system_copy, input_copy)\n"
   ]
  },
  {
   "cell_type": "code",
   "execution_count": 9,
   "metadata": {},
   "outputs": [
    {
     "ename": "NameError",
     "evalue": "name 'generate_input_statistics' is not defined",
     "output_type": "error",
     "traceback": [
      "\u001b[0;31m---------------------------------------------------------------------------\u001b[0m",
      "\u001b[0;31mNameError\u001b[0m                                 Traceback (most recent call last)",
      "\u001b[0;32m<ipython-input-9-5192006a96a9>\u001b[0m in \u001b[0;36m<module>\u001b[0;34m\u001b[0m\n\u001b[1;32m      3\u001b[0m '''\n\u001b[1;32m      4\u001b[0m \u001b[0minitial_system\u001b[0m\u001b[0;34m,\u001b[0m \u001b[0minput\u001b[0m \u001b[0;34m=\u001b[0m \u001b[0mgenerate_inputs\u001b[0m\u001b[0;34m(\u001b[0m\u001b[0;34m)\u001b[0m\u001b[0;34m\u001b[0m\u001b[0;34m\u001b[0m\u001b[0m\n\u001b[0;32m----> 5\u001b[0;31m \u001b[0minput_frequency\u001b[0m \u001b[0;34m=\u001b[0m \u001b[0mgenerate_input_statistics\u001b[0m\u001b[0;34m(\u001b[0m\u001b[0minput\u001b[0m\u001b[0;34m)\u001b[0m\u001b[0;34m\u001b[0m\u001b[0;34m\u001b[0m\u001b[0m\n\u001b[0m\u001b[1;32m      6\u001b[0m \u001b[0m_completed_states_per_tau\u001b[0m\u001b[0;34m,\u001b[0m \u001b[0m_timing_info_per_tau\u001b[0m \u001b[0;34m=\u001b[0m \u001b[0mrun_realtime_data_collection\u001b[0m\u001b[0;34m(\u001b[0m\u001b[0mcopy\u001b[0m\u001b[0;34m.\u001b[0m\u001b[0mdeepcopy\u001b[0m\u001b[0;34m(\u001b[0m\u001b[0minitial_system\u001b[0m\u001b[0;34m)\u001b[0m\u001b[0;34m,\u001b[0m \u001b[0mcopy\u001b[0m\u001b[0;34m.\u001b[0m\u001b[0mdeepcopy\u001b[0m\u001b[0;34m(\u001b[0m\u001b[0minput\u001b[0m\u001b[0;34m)\u001b[0m\u001b[0;34m)\u001b[0m\u001b[0;34m\u001b[0m\u001b[0;34m\u001b[0m\u001b[0m\n",
      "\u001b[0;31mNameError\u001b[0m: name 'generate_input_statistics' is not defined"
     ]
    }
   ],
   "source": [
    "'''\n",
    "data collection pipeline\n",
    "'''\n",
    "initial_system, input = generate_inputs()\n",
    "input_frequency = generate_input_statistics(input) \n",
    "_completed_states_per_tau, _timing_info_per_tau = run_realtime_data_collection(copy.deepcopy(initial_system), copy.deepcopy(input))"
   ]
  },
  {
   "cell_type": "code",
   "execution_count": null,
   "metadata": {},
   "outputs": [],
   "source": [
    "'''\n",
    "data buffer\n",
    "'''\n",
    "completed_states = copy.deepcopy(_completed_states_per_tau)\n",
    "timing_info = copy.deepcopy(_timing_info_per_tau)\n",
    "\n",
    "\n"
   ]
  },
  {
   "cell_type": "code",
   "execution_count": null,
   "metadata": {
    "scrolled": true
   },
   "outputs": [],
   "source": [
    "'''\n",
    "process data buffer\n",
    "'''\n",
    "percent_valid = [0 for i in range(len(completed_states[0]))]\n",
    "percent_valid_per_tau = [copy.copy(percent_valid) for i in range(TAU_MAX)]\n",
    "for tau,completed in enumerate(completed_states):\n",
    "    print(completed)\n",
    "    print(\"\\n\\n\\n\\n\\n\\n\")\n",
    "    for index, com in enumerate(completed):\n",
    "        for state in com:\n",
    "            if(\"VALID\" in state.labels):\n",
    "                percent_valid_per_tau[tau][index] += 1\n",
    "\n",
    "for tower_cost in percent_valid_per_tau:\n",
    "    print(tower_cost)\n",
    "    \n",
    "# actual_percentages = [(i/len(completed_states[0])) for i in percent_valid]\n",
    "# print(actual_percentages)\n",
    "\n",
    "# mvp_output_per_tower\n",
    "mvp_output_per_tower_per_tau = [rm.get_mvp_output(completed) for completed in completed_states]\n",
    "for tau in mvp_output_per_tower_per_tau:\n",
    "    for output in tau:\n",
    "        gm.print_formatted_cost(output[0],format_override=True)\n",
    "#     output[3].plot()\n",
    "#     gm.print_formatted_trace_path(output[1])\n",
    "\n",
    "    "
   ]
  },
  {
   "cell_type": "code",
   "execution_count": null,
   "metadata": {
    "scrolled": true
   },
   "outputs": [],
   "source": [
    "'''\n",
    "data buffer for mvp output\n",
    "'''\n",
    "percent_valid = [0 for i in range(len(completed_states[0]))]\n",
    "percent_valid_per_tau = [copy.copy(percent_valid) for i in range(TAU_MAX)]\n",
    "\n",
    "number_requests_per_TAU = [0 for i in range(len(completed_states[0]))]\n",
    "\n",
    "for tau,completed in enumerate(completed_states):\n",
    "    for index, com in enumerate(completed):\n",
    "        for state in com:\n",
    "            if(\"VALID\" in state.labels):\n",
    "                percent_valid_per_tau[tau][index] += 1\n",
    "                \n",
    "    \n",
    "\n",
    "for tower_cost in percent_valid_per_tau:\n",
    "    print(tower_cost)\n",
    "mvp_output_per_tower_per_tau_copy = copy.deepcopy(mvp_output_per_tower_per_tau)\n",
    "# for tau in mvp_output_per_tower_per_tau_copy:\n",
    "#     for output in tau:\n",
    "#         gm.print_formatted_cost(output[0],format_override=True)\n",
    "for timings in timing_info:\n",
    "    print(sum(timings))\n",
    "    print (timings)\n",
    "    "
   ]
  },
  {
   "cell_type": "code",
   "execution_count": null,
   "metadata": {
    "scrolled": true
   },
   "outputs": [],
   "source": [
    "'''\n",
    "calculating heuristic cost\n",
    "'''\n",
    "heurstic_cost_per_tau = [copy.copy(percent_valid) for i in range(TAU_MAX)]\n",
    "for tau,completed in enumerate(completed_states):\n",
    "    for index, com in enumerate(completed):\n",
    "        for state in com:\n",
    "            for req in state.request_vector:\n",
    "                if(req == \"wrong_tower\"):\n",
    "                    heurstic_cost_per_tau[tau][index] += 1\n",
    "for heuristic_cost in heurstic_cost_per_tau:\n",
    "    print(heuristic_cost)"
   ]
  },
  {
   "cell_type": "code",
   "execution_count": null,
   "metadata": {
    "scrolled": true
   },
   "outputs": [],
   "source": [
    "'''\n",
    "More data processing\n",
    "'''\n",
    "# sum up the negative costs for the tower (get total expiration value)\n",
    "cost_per_tau_over_time = [[] for i in range(TAU_MAX)]\n",
    "for index,tau in enumerate(completed_states):\n",
    "    sum_cost = 0\n",
    "    for time_step in range(len(completed_states[0][0])):\n",
    "        for tower in tau:\n",
    "            for expiration in tower[time_step].time_vector:\n",
    "                if expiration < 0:\n",
    "                    sum_cost -= expiration \n",
    "#                     sum_cost +=1\n",
    "        cost_per_tau_over_time[index].append(sum_cost)\n",
    "cost_per_tau_over_time = cost_per_tau_over_time[:5]\n",
    "'''\n",
    "first plot:\n",
    "cummulative expiration cost vs. time step\n",
    "label with periods of high traffic and low traffic\n",
    "do a line per tau\n",
    "'''\n",
    "import matplotlib.pyplot as plt\n",
    "x = [i+1 for i in range(len(completed_states[0][0]))]\n",
    "for tau_num, tau in enumerate(cost_per_tau_over_time):\n",
    "    plt.plot(x, tau, label = \"TAU = \" + str(tau_num))\n",
    "plt.legend()\n",
    "plt.xlabel('Time Step')\n",
    "plt.ylabel('Cumulative Error')\n",
    "plt.show()\n"
   ]
  },
  {
   "cell_type": "code",
   "execution_count": null,
   "metadata": {},
   "outputs": [],
   "source": [
    "'''\n",
    "second plot:\n",
    "cummulative expiration cost vs. time step\n",
    "label with periods of high traffic and low traffic\n",
    "do a line per tau\n",
    "also include a line for the traffic over time\n",
    "'''\n",
    "cum_input_len_over_time = [0 for i in x]\n",
    "for time_step in range(len(input)):\n",
    "    if time_step > 0:\n",
    "        cum_input_len_over_time[time_step] = cum_input_len_over_time[time_step-1]  \n",
    "    for key in input[time_step][0].keys():\n",
    "        cum_input_len_over_time[time_step] += len(input[time_step][0][key])\n",
    "print (cum_input_len_over_time)\n",
    "for i in range(len(input), len(x)):\n",
    "    cum_input_len_over_time[i] = cum_input_len_over_time[i-1]\n",
    "\n",
    "fig,ax1 = plt.subplots()\n",
    "for tau_num, tau in enumerate(cost_per_tau_over_time):\n",
    "    ax1.plot(x, tau, label = \"TAU = \" + str(tau_num))\n",
    "plt.legend()\n",
    "ax1.set_xlabel('Time Step')\n",
    "ax1.set_ylabel('Cumulative Error')\n",
    "input_len_over_time = [0 for i in x]\n",
    "for time_step in range(len(input)):\n",
    "    for key in input[time_step][0].keys():\n",
    "        input_len_over_time[time_step] += len(input[time_step][0][key])\n",
    "ax2 = ax1.twinx()\n",
    "ax2.bar(x, input_len_over_time, color='r', alpha=0.1)\n",
    "# ax2.plot(x, cum_input_len_over_time, 'r.')\n",
    "ax2.set_ylabel('Additional Requests')\n",
    "ax2.tick_params('y',colors='r')\n",
    "plt.savefig('data/Realtime/cumulative_error_over_time_with_requests' + str(index) + '.png',dpi=216)"
   ]
  },
  {
   "cell_type": "code",
   "execution_count": null,
   "metadata": {},
   "outputs": [],
   "source": [
    "'''\n",
    "second plot:\n",
    "traffic over time\n",
    "'''\n",
    "input_len_over_time = [0 for i in x]\n",
    "for time_step in range(len(input)):\n",
    "    for key in input[time_step][0].keys():\n",
    "        input_len_over_time[time_step] += len(input[time_step][0][key])\n",
    "plt.bar(x, input_len_over_time)\n"
   ]
  },
  {
   "cell_type": "code",
   "execution_count": null,
   "metadata": {},
   "outputs": [],
   "source": [
    "'''\n",
    "timings data\n",
    "'''\n",
    "for timings in timing_info:\n",
    "#     print(timings)\n",
    "    print(sum(timings))"
   ]
  },
  {
   "cell_type": "code",
   "execution_count": null,
   "metadata": {},
   "outputs": [],
   "source": []
  }
 ],
 "metadata": {
  "kernelspec": {
   "display_name": "Python 3.6.9 64-bit ('myenv': venv)",
   "language": "python",
   "name": "pythonjvsc74a57bd0d6a890c7a141be723df3691499814c45d57626bd28f7c1d9a707334f5ae65d2e"
  },
  "language_info": {
   "codemirror_mode": {
    "name": "ipython",
    "version": 3
   },
   "file_extension": ".py",
   "mimetype": "text/x-python",
   "name": "python",
   "nbconvert_exporter": "python",
   "pygments_lexer": "ipython3",
   "version": "3.6.9"
  }
 },
 "nbformat": 4,
 "nbformat_minor": 2
}
