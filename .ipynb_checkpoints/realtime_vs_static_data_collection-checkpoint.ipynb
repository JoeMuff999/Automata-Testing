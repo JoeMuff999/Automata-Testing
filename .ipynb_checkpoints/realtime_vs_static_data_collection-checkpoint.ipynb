{
 "cells": [
  {
   "cell_type": "code",
   "execution_count": null,
   "metadata": {},
   "outputs": [],
   "source": [
    " '''\n",
    "Author information:\n",
    "Joey R. Muffoletto\n",
    "University of Texas at Austin\n",
    "Autonomous Systems Group\n",
    "jrmuff@utexas.edu\n",
    "'''"
   ]
  }
 ],
 "metadata": {
  "kernelspec": {
   "display_name": "Python 3.6.9 64-bit ('myenv': venv)",
   "language": "python",
   "name": "pythonjvsc74a57bd0d6a890c7a141be723df3691499814c45d57626bd28f7c1d9a707334f5ae65d2e"
  },
  "language_info": {
   "codemirror_mode": {
    "name": "ipython",
    "version": 3
   },
   "file_extension": ".py",
   "mimetype": "text/x-python",
   "name": "python",
   "nbconvert_exporter": "python",
   "pygments_lexer": "ipython3",
   "version": "3.6.9"
  }
 },
 "nbformat": 4,
 "nbformat_minor": 4
}
