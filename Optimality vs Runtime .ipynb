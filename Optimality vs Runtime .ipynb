{
 "cells": [
  {
   "cell_type": "code",
   "execution_count": 1,
   "metadata": {},
   "outputs": [],
   "source": [
    "import sys\n",
    "import os\n",
    "sys.path.insert(0, os.path.abspath('C:\\\\Users\\\\Joey\\\\PycharmProjects\\\\Automata-Testing'))\n",
    "import reworked_graph\n",
    "# import copy\n",
    "# import pydot\n",
    "import graph_test_methods\n",
    "import graph_manager\n",
    "import random\n",
    "os.environ[\"PATH\"] += os.pathsep + 'C:/Program Files/Graphviz 2.44.1/bin'\n",
    "\n",
    "data = open(\"results.txt\", \"w\")"
   ]
  },
  {
   "cell_type": "code",
   "execution_count": 2,
   "metadata": {},
   "outputs": [
    {
     "ename": "SyntaxError",
     "evalue": "invalid syntax (<ipython-input-2-fc1066438d78>, line 16)",
     "output_type": "error",
     "traceback": [
      "\u001b[1;36m  File \u001b[1;32m\"<ipython-input-2-fc1066438d78>\"\u001b[1;36m, line \u001b[1;32m16\u001b[0m\n\u001b[1;33m    time_vector_per_tower.append([TIME_STEPS for i in range rand])\u001b[0m\n\u001b[1;37m                                                               ^\u001b[0m\n\u001b[1;31mSyntaxError\u001b[0m\u001b[1;31m:\u001b[0m invalid syntax\n"
     ]
    }
   ],
   "source": [
    "#System Parameters\n",
    "NUM_TOWERS = 5 # number of towers in the system\n",
    "ROLLOUT_INDEX = 1 # index of start node when performing rollout heuristic\n",
    "TIME_STEPS = 4 # number of time steps alloted for each request\n",
    "NUM_PORTS = 3 # number of ports each tower will have\n",
    "PORT_MAX = 4\n",
    "\n",
    "random.seed(10)\n",
    "\n",
    "num_requests_per_tower = []\n",
    "time_vector_per_tower = []\n",
    "system = []\n",
    "for i in range(NUM_TOWERS):\n",
    "    rand = random.randint(1,6)\n",
    "    num_requests_per_tower.append(rand)\n",
    "    time_vector_per_tower.append([TIME_STEPS for i in range(rand)])\n",
    "    graph_manager.return_tower\n",
    "    system.append(rand, NUM_PORTS, time_vector_per_tower[i], PORT_MAX)\n",
    "    \n",
    "\n"
   ]
  }
 ],
 "metadata": {
  "kernelspec": {
   "display_name": "Python 3",
   "language": "python",
   "name": "python3"
  },
  "language_info": {
   "codemirror_mode": {
    "name": "ipython",
    "version": 3
   },
   "file_extension": ".py",
   "mimetype": "text/x-python",
   "name": "python",
   "nbconvert_exporter": "python",
   "pygments_lexer": "ipython3",
   "version": "3.7.1"
  }
 },
 "nbformat": 4,
 "nbformat_minor": 2
}
