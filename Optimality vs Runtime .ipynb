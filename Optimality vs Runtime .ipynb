{
 "cells": [
  {
   "cell_type": "code",
   "execution_count": 1,
   "metadata": {},
   "outputs": [],
   "source": [
    "import sys\n",
    "import os\n",
    "sys.path.insert(0, os.path.abspath('C:\\\\Users\\\\Joey\\\\PycharmProjects\\\\Automata-Testing'))\n",
    "# import copy\n",
    "# import pydot\n",
    "import optimization_functions\n",
    "\n",
    "os.environ[\"PATH\"] += os.pathsep + 'C:/Program Files/Graphviz 2.44.1/bin'\n",
    "\n",
    "data = open(\"results.txt\", \"w\")"
   ]
  },
  {
   "cell_type": "code",
   "execution_count": 3,
   "metadata": {},
   "outputs": [
    {
     "name": "stdout",
     "output_type": "stream",
     "text": [
      "tower 0 : (<reworked_graph.ReworkedGraph object at 0x000001C66D688FD0>, 5, 3, [4, 4, 4, 4, 4], 4)\n",
      "tower 1 : (<reworked_graph.ReworkedGraph object at 0x000001C66DAA6860>, 1, 1, [4], 4)\n",
      "tower 2 : (<reworked_graph.ReworkedGraph object at 0x000001C66DAACF98>, 4, 1, [4, 4, 4, 4], 4)\n",
      "tower 3 : (<reworked_graph.ReworkedGraph object at 0x000001C66DAB4E80>, 4, 1, [4, 4, 4, 4], 4)\n",
      "tower 4 : (<reworked_graph.ReworkedGraph object at 0x000001C66D59CE80>, 5, 1, [4, 4, 4, 4, 4], 4)\n"
     ]
    }
   ],
   "source": [
    "for i in range(5):\n",
    "    system = get_randomized_system()\n",
    "    \n",
    "    "
   ]
  },
  {
   "cell_type": "code",
   "execution_count": null,
   "metadata": {},
   "outputs": [],
   "source": []
  }
 ],
 "metadata": {
  "kernelspec": {
   "display_name": "Python 3",
   "language": "python",
   "name": "python3"
  },
  "language_info": {
   "codemirror_mode": {
    "name": "ipython",
    "version": 3
   },
   "file_extension": ".py",
   "mimetype": "text/x-python",
   "name": "python",
   "nbconvert_exporter": "python",
   "pygments_lexer": "ipython3",
   "version": "3.7.1"
  }
 },
 "nbformat": 4,
 "nbformat_minor": 2
}
