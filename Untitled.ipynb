{
 "cells": [
  {
   "cell_type": "code",
   "execution_count": 3,
   "metadata": {},
   "outputs": [],
   "source": [
    "import sys\n",
    "import os\n",
    "sys.path.insert(0, os.path.abspath('C:\\\\Users\\\\Joey\\\\PycharmProjects\\\\Automata-Testing'))\n",
    "import graph_manager"
   ]
  },
  {
   "cell_type": "code",
   "execution_count": 4,
   "metadata": {},
   "outputs": [
    {
     "name": "stdout",
     "output_type": "stream",
     "text": [
      "{'0': 1, '1': 1, '2': 2}\n",
      "finished req :: 0 in time 0.8953769207000732\n",
      "{'0': 1, '1': 1, '2': 2}\n",
      "finished req :: 1 in time 0.937323808670044\n",
      "{'0': 1, '1': 1, '2': 2}\n",
      "finished req :: 2 in time 0.25323009490966797\n",
      "{'0': 1, '1': 1, '2': 2}\n",
      "finished req :: 3 in time 0.8299398422241211\n",
      "{'0': 1, '1': 1, '2': 2}\n",
      "finished req :: 4 in time 0.9005093574523926\n",
      "Optimal cost: [2, 3, 5]\n",
      "State path: [State currently has requests :: ('0', '1', '2', '0', '1') Time states of :: (3, 3, 3, 3, 3) Port states of :: {'0': 0, '2': 0, '1': 0} Labels :: ['VALID']  \n",
      ", State currently has requests :: ('0', '1', '2', '1') Time states of :: (2, 2, 2, 2) Port states of :: {'0': 1, '2': 0, '1': 0} Labels :: ['VALID']  \n",
      ", State currently has requests :: ('0', '1', '2') Time states of :: (1, 1, 1) Port states of :: {'0': 1, '2': 0, '1': 1} Labels :: ['VALID']  \n",
      ", State currently has requests :: ('0', '2') Time states of :: (0, 0) Port states of :: {'0': 1, '2': 1, '1': 1} Labels :: ['VALID', 'WRONG_PORT']  \n",
      ", State currently has requests :: ('0',) Time states of :: (-1,) Port states of :: {'0': 1, '2': 2, '1': 1} Labels :: []  \n",
      ", State currently has requests :: () Time states of :: () Port states of :: {'0': 2, '2': 2, '1': 1} Labels :: ['FINISH', 'OVERFLOWED_PORT']  \n",
      "]\n",
      "Optimal cost: [0, 1, 4]\n",
      "State path: [State currently has requests :: ('1', '2', '0', '1') Time states of :: (3, 3, 3, 3) Port states of :: {'1': 0, '2': 0, '0': 0} Labels :: ['VALID']  \n",
      ", State currently has requests :: ('1', '0', '1') Time states of :: (2, 2, 2) Port states of :: {'1': 0, '2': 1, '0': 0} Labels :: ['VALID']  \n",
      ", State currently has requests :: ('1', '0') Time states of :: (1, 1) Port states of :: {'1': 1, '2': 1, '0': 0} Labels :: ['VALID']  \n",
      ", State currently has requests :: ('1',) Time states of :: (0,) Port states of :: {'1': 1, '2': 1, '0': 1} Labels :: ['VALID']  \n",
      ", State currently has requests :: () Time states of :: () Port states of :: {'1': 1, '2': 2, '0': 1} Labels :: ['VALID', 'FINISH', 'WRONG_PORT']  \n",
      "]\n",
      "Optimal cost: [0, 1, 4]\n",
      "State path: [State currently has requests :: ('0', '2', '0', '1') Time states of :: (3, 3, 3, 3) Port states of :: {'0': 0, '2': 0, '1': 0} Labels :: ['VALID']  \n",
      ", State currently has requests :: ('0', '2', '0') Time states of :: (2, 2, 2) Port states of :: {'0': 0, '2': 0, '1': 1} Labels :: ['VALID']  \n",
      ", State currently has requests :: ('0', '2') Time states of :: (1, 1) Port states of :: {'0': 1, '2': 0, '1': 1} Labels :: ['VALID']  \n",
      ", State currently has requests :: ('2',) Time states of :: (0,) Port states of :: {'0': 1, '2': 1, '1': 1} Labels :: ['VALID', 'WRONG_PORT']  \n",
      ", State currently has requests :: () Time states of :: () Port states of :: {'0': 1, '2': 2, '1': 1} Labels :: ['VALID', 'FINISH']  \n",
      "]\n",
      "Optimal cost: [0, 4, 4]\n",
      "State path: [State currently has requests :: ('0', '1', '0', '1') Time states of :: (3, 3, 3, 3) Port states of :: {'0': 0, '1': 0} Labels :: ['VALID']  \n",
      ", State currently has requests :: ('0', '1', '0') Time states of :: (2, 2, 2) Port states of :: {'0': 0, '1': 1} Labels :: ['VALID']  \n",
      ", State currently has requests :: ('0', '1') Time states of :: (1, 1) Port states of :: {'0': 1, '1': 1} Labels :: ['VALID']  \n",
      ", State currently has requests :: ('1',) Time states of :: (0,) Port states of :: {'0': 2, '1': 1} Labels :: ['VALID', 'OVERFLOWED_PORT']  \n",
      ", State currently has requests :: () Time states of :: () Port states of :: {'0': 2, '1': 2} Labels :: ['VALID', 'FINISH', 'OVERFLOWED_PORT']  \n",
      "]\n",
      "Optimal cost: [0, 1, 4]\n",
      "State path: [State currently has requests :: ('0', '1', '2', '1') Time states of :: (3, 3, 3, 3) Port states of :: {'0': 0, '2': 0, '1': 0} Labels :: ['VALID']  \n",
      ", State currently has requests :: ('1', '2', '1') Time states of :: (2, 2, 2) Port states of :: {'0': 1, '2': 0, '1': 0} Labels :: ['VALID']  \n",
      ", State currently has requests :: ('1', '1') Time states of :: (1, 1) Port states of :: {'0': 1, '2': 1, '1': 0} Labels :: ['VALID']  \n",
      ", State currently has requests :: ('1',) Time states of :: (0,) Port states of :: {'0': 1, '2': 2, '1': 0} Labels :: ['VALID', 'WRONG_PORT']  \n",
      ", State currently has requests :: () Time states of :: () Port states of :: {'0': 1, '2': 2, '1': 1} Labels :: ['VALID', 'FINISH']  \n",
      "]\n",
      "Optimal cost: [0, 1, 4]\n",
      "State path: [State currently has requests :: ('0', '1', '2', '0') Time states of :: (3, 3, 3, 3) Port states of :: {'0': 0, '2': 0, '1': 0} Labels :: ['VALID']  \n",
      ", State currently has requests :: ('0', '1', '2') Time states of :: (2, 2, 2) Port states of :: {'0': 1, '2': 0, '1': 0} Labels :: ['VALID']  \n",
      ", State currently has requests :: ('1', '2') Time states of :: (1, 1) Port states of :: {'0': 1, '2': 1, '1': 0} Labels :: ['VALID', 'WRONG_PORT']  \n",
      ", State currently has requests :: ('1',) Time states of :: (0,) Port states of :: {'0': 1, '2': 2, '1': 0} Labels :: ['VALID']  \n",
      ", State currently has requests :: () Time states of :: () Port states of :: {'0': 1, '2': 2, '1': 1} Labels :: ['VALID', 'FINISH']  \n",
      "]\n"
     ]
    }
   ],
   "source": [
    "tower = graph_manager.return_tower(5,3, 3, [1,1,2])\n",
    "#tower = graph_manager.return_tower(2,2, 2, [0,2])\n",
    "\n",
    "# worst_request, cost_list, req_list, wpa_list = graph_manager.get_worst_request(tower)\n",
    "# print(worst_request)\n",
    "# for cost in cost_list:\n",
    "#     print(\"Optimal cost: {}\".format(cost))\n",
    "# print(req_list)\n",
    "worst_request, cost_list, req_list, trace_list = graph_manager.get_worst_request(tower)\n",
    "# trace_list[0][3].plot()\n",
    "\n",
    "for trace in trace_list:\n",
    "    print(\"Optimal cost: {}\".format(trace[0]))\n",
    "    print(\"State path: {}\".format(trace[1]))"
   ]
  },
  {
   "cell_type": "code",
   "execution_count": null,
   "metadata": {},
   "outputs": [],
   "source": []
  },
  {
   "cell_type": "code",
   "execution_count": null,
   "metadata": {},
   "outputs": [],
   "source": []
  }
 ],
 "metadata": {
  "kernelspec": {
   "display_name": "Python 3",
   "language": "python",
   "name": "python3"
  },
  "language_info": {
   "codemirror_mode": {
    "name": "ipython",
    "version": 3
   },
   "file_extension": ".py",
   "mimetype": "text/x-python",
   "name": "python",
   "nbconvert_exporter": "python",
   "pygments_lexer": "ipython3",
   "version": "3.7.1"
  }
 },
 "nbformat": 4,
 "nbformat_minor": 2
}
