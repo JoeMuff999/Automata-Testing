{
 "cells": [
  {
   "cell_type": "code",
   "execution_count": 1,
   "metadata": {},
   "outputs": [
    {
     "data": {
      "text/plain": [
       "'\\nAuthor information:\\nJoey R. Muffoletto\\nUniversity of Texas at Austin\\nAutonomous Systems Group\\njrmuff@utexas.edu\\n'"
      ]
     },
     "execution_count": 1,
     "metadata": {},
     "output_type": "execute_result"
    }
   ],
   "source": [
    " '''\n",
    "Author information:\n",
    "Joey R. Muffoletto\n",
    "University of Texas at Austin\n",
    "Autonomous Systems Group\n",
    "jrmuff@utexas.edu\n",
    "'''"
   ]
  },
  {
   "cell_type": "code",
   "execution_count": 2,
   "metadata": {},
   "outputs": [],
   "source": [
    "import os\n",
    "import realtime_manager as rm \n",
    "import graph_manager as gm\n",
    "import reworked_graph as rg\n",
    "import copy"
   ]
  },
  {
   "cell_type": "code",
   "execution_count": null,
   "metadata": {},
   "outputs": [],
   "source": [
    "'''\n",
    "manager configurations\n",
    "\n",
    "traffic test globals\n",
    "'''\n",
    "NUM_TOWERS = 5\n",
    "TAU_MAX = 5\n",
    "TAU = 0\n",
    "\n",
    "DEFAULT_EMPTY_STATE = rg.State((),(),{\"0\" : 6})\n",
    "rm.configure_realtime(tau=TAU, override_default_empty_state=DEFAULT_EMPTY_STATE)\n",
    "\n"
   ]
  }
 ],
 "metadata": {
  "kernelspec": {
   "display_name": "Python 3.6.9 64-bit ('myenv': venv)",
   "language": "python",
   "name": "pythonjvsc74a57bd0d6a890c7a141be723df3691499814c45d57626bd28f7c1d9a707334f5ae65d2e"
  },
  "language_info": {
   "codemirror_mode": {
    "name": "ipython",
    "version": 3
   },
   "file_extension": ".py",
   "mimetype": "text/x-python",
   "name": "python",
   "nbconvert_exporter": "python",
   "pygments_lexer": "ipython3",
   "version": "3.6.9"
  }
 },
 "nbformat": 4,
 "nbformat_minor": 4
}
